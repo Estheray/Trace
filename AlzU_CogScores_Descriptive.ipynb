{
 "cells": [
  {
   "cell_type": "code",
   "execution_count": 2,
   "metadata": {},
   "outputs": [],
   "source": [
    "import pandas as pd\n",
    "import numpy as np"
   ]
  },
  {
   "cell_type": "code",
   "execution_count": 6,
   "metadata": {},
   "outputs": [],
   "source": [
    "cft_514 = pd.read_csv('./CFT-ao-GMT2018-05-59_04-59-54_514.csv')"
   ]
  },
  {
   "cell_type": "code",
   "execution_count": 7,
   "metadata": {},
   "outputs": [
    {
     "data": {
      "text/html": [
       "<div>\n",
       "<style scoped>\n",
       "    .dataframe tbody tr th:only-of-type {\n",
       "        vertical-align: middle;\n",
       "    }\n",
       "\n",
       "    .dataframe tbody tr th {\n",
       "        vertical-align: top;\n",
       "    }\n",
       "\n",
       "    .dataframe thead th {\n",
       "        text-align: right;\n",
       "    }\n",
       "</style>\n",
       "<table border=\"1\" class=\"dataframe\">\n",
       "  <thead>\n",
       "    <tr style=\"text-align: right;\">\n",
       "      <th></th>\n",
       "      <th>UserID</th>\n",
       "      <th>FirstName</th>\n",
       "      <th>EmailAddress</th>\n",
       "      <th>DoB</th>\n",
       "      <th>Gender</th>\n",
       "      <th>RegDate</th>\n",
       "      <th>Country</th>\n",
       "      <th>Postcode</th>\n",
       "      <th>Source</th>\n",
       "      <th>Ethnicy</th>\n",
       "      <th>...</th>\n",
       "      <th>LoseWay</th>\n",
       "      <th>IsMemoryWorse</th>\n",
       "      <th>FamilyHistory</th>\n",
       "      <th>FamilyHistoryAge</th>\n",
       "      <th>Supplements</th>\n",
       "      <th>DeviceUsed</th>\n",
       "      <th>ass</th>\n",
       "      <th>combocs</th>\n",
       "      <th>recallscore</th>\n",
       "      <th>placescore</th>\n",
       "    </tr>\n",
       "  </thead>\n",
       "  <tbody>\n",
       "    <tr>\n",
       "      <th>0</th>\n",
       "      <td>37894</td>\n",
       "      <td>R</td>\n",
       "      <td>rii9004@med.cornell.edu</td>\n",
       "      <td>01/01/1940 00:00:00</td>\n",
       "      <td>M</td>\n",
       "      <td>28/01/2015 03:19:48</td>\n",
       "      <td>NaN</td>\n",
       "      <td>NaN</td>\n",
       "      <td>cornell</td>\n",
       "      <td>NaN</td>\n",
       "      <td>...</td>\n",
       "      <td>False</td>\n",
       "      <td>False</td>\n",
       "      <td>yes</td>\n",
       "      <td>mild</td>\n",
       "      <td>No</td>\n",
       "      <td>NaN</td>\n",
       "      <td>NaN</td>\n",
       "      <td>NaN</td>\n",
       "      <td>NaN</td>\n",
       "      <td>NaN</td>\n",
       "    </tr>\n",
       "    <tr>\n",
       "      <th>1</th>\n",
       "      <td>37898</td>\n",
       "      <td>R</td>\n",
       "      <td>rii9004@med.cornell.edu</td>\n",
       "      <td>01/01/1960 00:00:00</td>\n",
       "      <td>M</td>\n",
       "      <td>28/01/2015 03:35:10</td>\n",
       "      <td>NaN</td>\n",
       "      <td>NaN</td>\n",
       "      <td>cornell</td>\n",
       "      <td>NaN</td>\n",
       "      <td>...</td>\n",
       "      <td>False</td>\n",
       "      <td>False</td>\n",
       "      <td>no</td>\n",
       "      <td>none</td>\n",
       "      <td>No</td>\n",
       "      <td>NaN</td>\n",
       "      <td>NaN</td>\n",
       "      <td>NaN</td>\n",
       "      <td>NaN</td>\n",
       "      <td>NaN</td>\n",
       "    </tr>\n",
       "    <tr>\n",
       "      <th>2</th>\n",
       "      <td>37323</td>\n",
       "      <td>Abie 3</td>\n",
       "      <td>abie@catalyst-innovation.co.uk</td>\n",
       "      <td>01/01/1930 00:00:00</td>\n",
       "      <td>M</td>\n",
       "      <td>26/01/2015 17:41:49</td>\n",
       "      <td>UK</td>\n",
       "      <td>RH4</td>\n",
       "      <td>cornell</td>\n",
       "      <td>NaN</td>\n",
       "      <td>...</td>\n",
       "      <td>False</td>\n",
       "      <td>False</td>\n",
       "      <td>no</td>\n",
       "      <td>alzh</td>\n",
       "      <td>A basic B complex or RDA type multivitamin</td>\n",
       "      <td>NaN</td>\n",
       "      <td>NaN</td>\n",
       "      <td>NaN</td>\n",
       "      <td>NaN</td>\n",
       "      <td>NaN</td>\n",
       "    </tr>\n",
       "    <tr>\n",
       "      <th>3</th>\n",
       "      <td>37318</td>\n",
       "      <td>Abie test 2</td>\n",
       "      <td>abie@catalyst-innovation.co.uk</td>\n",
       "      <td>01/01/1977 00:00:00</td>\n",
       "      <td>M</td>\n",
       "      <td>26/01/2015 17:26:39</td>\n",
       "      <td>UK</td>\n",
       "      <td>KT2 5RN</td>\n",
       "      <td>cornell</td>\n",
       "      <td>NaN</td>\n",
       "      <td>...</td>\n",
       "      <td>False</td>\n",
       "      <td>False</td>\n",
       "      <td>no</td>\n",
       "      <td>none</td>\n",
       "      <td>A homocysteine lowering formula (eg Connect, H...</td>\n",
       "      <td>NaN</td>\n",
       "      <td>NaN</td>\n",
       "      <td>NaN</td>\n",
       "      <td>NaN</td>\n",
       "      <td>NaN</td>\n",
       "    </tr>\n",
       "    <tr>\n",
       "      <th>4</th>\n",
       "      <td>37310</td>\n",
       "      <td>Abie test</td>\n",
       "      <td>abie@catalyst-innovation.co.uk</td>\n",
       "      <td>01/01/1979 00:00:00</td>\n",
       "      <td>M</td>\n",
       "      <td>26/01/2015 17:12:48</td>\n",
       "      <td>UK</td>\n",
       "      <td>KT2 5RN</td>\n",
       "      <td>cornell</td>\n",
       "      <td>NaN</td>\n",
       "      <td>...</td>\n",
       "      <td>False</td>\n",
       "      <td>False</td>\n",
       "      <td>no</td>\n",
       "      <td>none</td>\n",
       "      <td>No</td>\n",
       "      <td>NaN</td>\n",
       "      <td>NaN</td>\n",
       "      <td>NaN</td>\n",
       "      <td>NaN</td>\n",
       "      <td>NaN</td>\n",
       "    </tr>\n",
       "  </tbody>\n",
       "</table>\n",
       "<p>5 rows × 45 columns</p>\n",
       "</div>"
      ],
      "text/plain": [
       "   UserID    FirstName                    EmailAddress                  DoB  \\\n",
       "0   37894            R         rii9004@med.cornell.edu  01/01/1940 00:00:00   \n",
       "1   37898            R         rii9004@med.cornell.edu  01/01/1960 00:00:00   \n",
       "2   37323       Abie 3  abie@catalyst-innovation.co.uk  01/01/1930 00:00:00   \n",
       "3   37318  Abie test 2  abie@catalyst-innovation.co.uk  01/01/1977 00:00:00   \n",
       "4   37310    Abie test  abie@catalyst-innovation.co.uk  01/01/1979 00:00:00   \n",
       "\n",
       "  Gender              RegDate Country Postcode   Source  Ethnicy     ...      \\\n",
       "0      M  28/01/2015 03:19:48     NaN      NaN  cornell      NaN     ...       \n",
       "1      M  28/01/2015 03:35:10     NaN      NaN  cornell      NaN     ...       \n",
       "2      M  26/01/2015 17:41:49      UK      RH4  cornell      NaN     ...       \n",
       "3      M  26/01/2015 17:26:39      UK  KT2 5RN  cornell      NaN     ...       \n",
       "4      M  26/01/2015 17:12:48      UK  KT2 5RN  cornell      NaN     ...       \n",
       "\n",
       "   LoseWay  IsMemoryWorse  FamilyHistory  FamilyHistoryAge  \\\n",
       "0    False          False            yes              mild   \n",
       "1    False          False             no              none   \n",
       "2    False          False             no              alzh   \n",
       "3    False          False             no              none   \n",
       "4    False          False             no              none   \n",
       "\n",
       "                                         Supplements  DeviceUsed ass combocs  \\\n",
       "0                                                 No         NaN NaN     NaN   \n",
       "1                                                 No         NaN NaN     NaN   \n",
       "2         A basic B complex or RDA type multivitamin         NaN NaN     NaN   \n",
       "3  A homocysteine lowering formula (eg Connect, H...         NaN NaN     NaN   \n",
       "4                                                 No         NaN NaN     NaN   \n",
       "\n",
       "   recallscore  placescore  \n",
       "0          NaN         NaN  \n",
       "1          NaN         NaN  \n",
       "2          NaN         NaN  \n",
       "3          NaN         NaN  \n",
       "4          NaN         NaN  \n",
       "\n",
       "[5 rows x 45 columns]"
      ]
     },
     "execution_count": 7,
     "metadata": {},
     "output_type": "execute_result"
    }
   ],
   "source": [
    "cft_514.head()"
   ]
  },
  {
   "cell_type": "code",
   "execution_count": 8,
   "metadata": {},
   "outputs": [
    {
     "data": {
      "text/plain": [
       "Index(['UserID', 'FirstName', 'EmailAddress', 'DoB', 'Gender', 'RegDate',\n",
       "       'Country', 'Postcode', 'Source', 'Ethnicy', 'MouseScore', 'Interrupted',\n",
       "       'Functioned', 'FastInternet', 'ScreenClear', 'FinalScore', 'DateTaken',\n",
       "       'Homoscyteine', 'MaritalStatus', 'Dependents', 'Occupation',\n",
       "       'PrimaryIncome', 'HouseholdIncome', 'PrimaryIncomeOccupation',\n",
       "       'FirstPriority', 'SecondPriority', 'OtherPriority', 'FullTime',\n",
       "       'PartTime', 'Working', 'CompUser', 'MemConcern', 'ForgetFriends',\n",
       "       'PutThings', 'ForgetWords', 'LoseWay', 'IsMemoryWorse', 'FamilyHistory',\n",
       "       'FamilyHistoryAge', 'Supplements', 'DeviceUsed', 'ass', 'combocs',\n",
       "       'recallscore', 'placescore'],\n",
       "      dtype='object')"
      ]
     },
     "execution_count": 8,
     "metadata": {},
     "output_type": "execute_result"
    }
   ],
   "source": [
    "cft_514.columns"
   ]
  },
  {
   "cell_type": "code",
   "execution_count": 10,
   "metadata": {},
   "outputs": [
    {
     "data": {
      "text/plain": [
       "0          NaN\n",
       "1          NaN\n",
       "2    16.812572\n",
       "3    10.051615\n",
       "4    11.232202\n",
       "Name: FinalScore, dtype: float64"
      ]
     },
     "execution_count": 10,
     "metadata": {},
     "output_type": "execute_result"
    }
   ],
   "source": [
    "cft_514.loc[:,'FinalScore'].head()"
   ]
  },
  {
   "cell_type": "code",
   "execution_count": 66,
   "metadata": {},
   "outputs": [],
   "source": [
    "total_participants = cft_514.loc[:,'FinalScore'].count()"
   ]
  },
  {
   "cell_type": "code",
   "execution_count": 58,
   "metadata": {},
   "outputs": [],
   "source": [
    "#within one standard deviation (11) of the mean (54.2) and above\n",
    "green = sum(cft_514.loc[:,'FinalScore']>=43.2)"
   ]
  },
  {
   "cell_type": "code",
   "execution_count": 59,
   "metadata": {},
   "outputs": [
    {
     "data": {
      "text/plain": [
       "3802"
      ]
     },
     "execution_count": 59,
     "metadata": {},
     "output_type": "execute_result"
    }
   ],
   "source": [
    "green"
   ]
  },
  {
   "cell_type": "code",
   "execution_count": 68,
   "metadata": {},
   "outputs": [
    {
     "data": {
      "text/plain": [
       "0.5098565106611238"
      ]
     },
     "execution_count": 68,
     "metadata": {},
     "output_type": "execute_result"
    }
   ],
   "source": [
    "green/total_participants"
   ]
  },
  {
   "cell_type": "code",
   "execution_count": 60,
   "metadata": {},
   "outputs": [],
   "source": [
    "#below one standard deviation, 'at risk'\n",
    "#rounded as per foodforthebrain.org/alzheimers-prevention/take-the-test/interpreting-results.aspx\n",
    "# amber = sum((cft_514.loc[:,'FinalScore']>=38) & (cft_514.loc[:,'FinalScore']<=43))\n",
    "amber = sum((cft_514.loc[:,'FinalScore']>= 37.7) & (cft_514.loc[:,'FinalScore']<43.2))"
   ]
  },
  {
   "cell_type": "code",
   "execution_count": 61,
   "metadata": {},
   "outputs": [
    {
     "data": {
      "text/plain": [
       "1639"
      ]
     },
     "execution_count": 61,
     "metadata": {},
     "output_type": "execute_result"
    }
   ],
   "source": [
    "amber"
   ]
  },
  {
   "cell_type": "code",
   "execution_count": 69,
   "metadata": {},
   "outputs": [
    {
     "data": {
      "text/plain": [
       "0.21979348263376694"
      ]
     },
     "execution_count": 69,
     "metadata": {},
     "output_type": "execute_result"
    }
   ],
   "source": [
    "amber/total_participants"
   ]
  },
  {
   "cell_type": "code",
   "execution_count": 62,
   "metadata": {},
   "outputs": [],
   "source": [
    "#below 1.5 standard deviations from the mean, 'significant risk'\n",
    "#foodforthebrain.org/alzheimers-prevention/take-the-test/interpreting-results.aspx\n",
    "red = sum(cft_514.loc[:,'FinalScore']<37.7)"
   ]
  },
  {
   "cell_type": "code",
   "execution_count": 63,
   "metadata": {},
   "outputs": [
    {
     "data": {
      "text/plain": [
       "2016"
      ]
     },
     "execution_count": 63,
     "metadata": {},
     "output_type": "execute_result"
    }
   ],
   "source": [
    "red"
   ]
  },
  {
   "cell_type": "code",
   "execution_count": 70,
   "metadata": {},
   "outputs": [
    {
     "data": {
      "text/plain": [
       "0.2703500067051093"
      ]
     },
     "execution_count": 70,
     "metadata": {},
     "output_type": "execute_result"
    }
   ],
   "source": [
    "red/total_participants"
   ]
  },
  {
   "cell_type": "code",
   "execution_count": 64,
   "metadata": {},
   "outputs": [
    {
     "data": {
      "text/plain": [
       "7457"
      ]
     },
     "execution_count": 64,
     "metadata": {},
     "output_type": "execute_result"
    }
   ],
   "source": [
    "red+amber+green "
   ]
  },
  {
   "cell_type": "code",
   "execution_count": 67,
   "metadata": {},
   "outputs": [
    {
     "data": {
      "text/plain": [
       "True"
      ]
     },
     "execution_count": 67,
     "metadata": {},
     "output_type": "execute_result"
    }
   ],
   "source": [
    "red+amber+green == total_participants"
   ]
  },
  {
   "cell_type": "code",
   "execution_count": 8,
   "metadata": {},
   "outputs": [
    {
     "name": "stderr",
     "output_type": "stream",
     "text": [
      "C:\\Users\\rz336\\AppData\\Local\\Continuum\\anaconda3\\lib\\site-packages\\IPython\\core\\interactiveshell.py:2728: DtypeWarning: Columns (17,18,32,33,47,91,92,106,150,151,165,179,180,209,210,238,239,297,298,356,357) have mixed types. Specify dtype option on import or set low_memory=False.\n",
      "  interactivity=interactivity, compiler=compiler, result=result)\n"
     ]
    }
   ],
   "source": [
    "fnt_514 = pd.read_csv('fnt-responses_514.csv')"
   ]
  },
  {
   "cell_type": "code",
   "execution_count": 22,
   "metadata": {},
   "outputs": [],
   "source": [
    "fnt_col_scores = [c for c in fnt_514.columns if 'Ver: A' in c]"
   ]
  },
  {
   "cell_type": "code",
   "execution_count": 23,
   "metadata": {},
   "outputs": [
    {
     "data": {
      "text/plain": [
       "['Ver: A - Original Start',\n",
       " 'Ver: A - Original End',\n",
       " 'Ver: A - Original | Task: Number | Responses',\n",
       " 'Ver: A - Original | Task: Number | Correct',\n",
       " 'Ver: A - Original | Task: Letter | Responses',\n",
       " 'Ver: A - Original | Task: Letter | Correct',\n",
       " 'Ver: A - Original | Task: Name | Responses',\n",
       " 'Ver: A - Original | Task: Name | Correct',\n",
       " 'Ver: A - Original | Task: Famous | Responses',\n",
       " 'Ver: A - Original | Task: Famous | Correct',\n",
       " 'Ver: A Start',\n",
       " 'Ver: A End',\n",
       " 'Ver: A | Task: Number | Responses',\n",
       " 'Ver: A | Task: Number | Correct',\n",
       " 'Ver: A | Task: Letter | Responses',\n",
       " 'Ver: A | Task: Letter | Correct',\n",
       " 'Ver: A | Task: Name | Responses',\n",
       " 'Ver: A | Task: Name | Correct',\n",
       " 'Ver: A | Task: Famous | Responses',\n",
       " 'Ver: A | Task: Famous | Correct']"
      ]
     },
     "execution_count": 23,
     "metadata": {},
     "output_type": "execute_result"
    }
   ],
   "source": [
    "fnt_col_scores"
   ]
  },
  {
   "cell_type": "code",
   "execution_count": 50,
   "metadata": {},
   "outputs": [],
   "source": [
    "def stats(correct,responses):\n",
    "    print(correct,':',responses)\n",
    "#     scores = fnt_514.loc[:,correct]/fnt_514.loc[:,responses]\n",
    "    scores = fnt_514.iloc[:,correct]/fnt_514.iloc[:,responses]\n",
    "    return (scores.describe())"
   ]
  },
  {
   "cell_type": "code",
   "execution_count": 52,
   "metadata": {},
   "outputs": [
    {
     "name": "stdout",
     "output_type": "stream",
     "text": [
      "Ver: A - Original End Ver: A - Original Start\n",
      "Ver: A - Original | Task: Number | Correct Ver: A - Original | Task: Number | Responses\n",
      "Ver: A - Original | Task: Letter | Correct Ver: A - Original | Task: Letter | Responses\n",
      "Ver: A - Original | Task: Name | Correct Ver: A - Original | Task: Name | Responses\n",
      "Ver: A - Original | Task: Famous | Correct Ver: A - Original | Task: Famous | Responses\n",
      "Ver: A End Ver: A Start\n",
      "Ver: A | Task: Number | Correct Ver: A | Task: Number | Responses\n",
      "Ver: A | Task: Letter | Correct Ver: A | Task: Letter | Responses\n",
      "Ver: A | Task: Name | Correct Ver: A | Task: Name | Responses\n",
      "Ver: A | Task: Famous | Correct Ver: A | Task: Famous | Responses\n"
     ]
    }
   ],
   "source": [
    "for i in range(0,len(fnt_col_scores),2):\n",
    "#     stats(i+1,i)\n",
    "    print(fnt_col_scores[i+1],fnt_col_scores[i])\n",
    "#     stats(str(fnt_col_scores[i+1]),str(fnt_col_scores[i]))"
   ]
  },
  {
   "cell_type": "code",
   "execution_count": 28,
   "metadata": {},
   "outputs": [],
   "source": [
    "fnt_num_scores = fnt_514.loc[:,'Ver: A - Original | Task: Number | Correct']/fnt_514.loc[:,'Ver: A - Original | Task: Number | Responses']"
   ]
  },
  {
   "cell_type": "code",
   "execution_count": 32,
   "metadata": {},
   "outputs": [
    {
     "data": {
      "text/plain": [
       "count    11405.000000\n",
       "mean         0.960722\n",
       "std          0.089035\n",
       "min          0.083333\n",
       "25%          0.916667\n",
       "50%          1.000000\n",
       "75%          1.000000\n",
       "max          1.000000\n",
       "dtype: float64"
      ]
     },
     "execution_count": 32,
     "metadata": {},
     "output_type": "execute_result"
    }
   ],
   "source": [
    "fnt_num_scores.describe()"
   ]
  },
  {
   "cell_type": "code",
   "execution_count": 33,
   "metadata": {},
   "outputs": [],
   "source": [
    "fnt_letter_scores = fnt_514.loc[:,'Ver: A - Original | Task: Letter | Correct']/fnt_514.loc[:,'Ver: A - Original | Task: Letter | Responses']"
   ]
  },
  {
   "cell_type": "code",
   "execution_count": 34,
   "metadata": {},
   "outputs": [
    {
     "data": {
      "text/plain": [
       "count    11146.000000\n",
       "mean         0.551371\n",
       "std          0.231175\n",
       "min          0.000000\n",
       "25%          0.416667\n",
       "50%          0.583333\n",
       "75%          0.750000\n",
       "max          1.000000\n",
       "dtype: float64"
      ]
     },
     "execution_count": 34,
     "metadata": {},
     "output_type": "execute_result"
    }
   ],
   "source": [
    "fnt_letter_scores.describe()"
   ]
  },
  {
   "cell_type": "code",
   "execution_count": 47,
   "metadata": {},
   "outputs": [],
   "source": [
    "fnt_name_scores = fnt_514.loc[:,'Ver: A - Original | Task: Name | Correct']/fnt_514.loc[:,'Ver: A - Original | Task: Name | Responses']"
   ]
  },
  {
   "cell_type": "code",
   "execution_count": 48,
   "metadata": {},
   "outputs": [
    {
     "data": {
      "text/plain": [
       "count    10891.000000\n",
       "mean         0.787034\n",
       "std          0.159085\n",
       "min          0.000000\n",
       "25%          0.666667\n",
       "50%          0.833333\n",
       "75%          0.916667\n",
       "max          1.000000\n",
       "dtype: float64"
      ]
     },
     "execution_count": 48,
     "metadata": {},
     "output_type": "execute_result"
    }
   ],
   "source": [
    "fnt_name_scores.describe()"
   ]
  },
  {
   "cell_type": "code",
   "execution_count": 53,
   "metadata": {},
   "outputs": [],
   "source": [
    "fnt_fame_scores = fnt_514.loc[:,'Ver: A - Original | Task: Famous | Correct']/fnt_514.loc[:,'Ver: A - Original | Task: Famous | Responses']"
   ]
  },
  {
   "cell_type": "code",
   "execution_count": 54,
   "metadata": {},
   "outputs": [
    {
     "data": {
      "text/plain": [
       "count    2665.000000\n",
       "mean        0.957349\n",
       "std         0.078345\n",
       "min         0.300000\n",
       "25%         0.900000\n",
       "50%         1.000000\n",
       "75%         1.000000\n",
       "max         1.000000\n",
       "dtype: float64"
      ]
     },
     "execution_count": 54,
     "metadata": {},
     "output_type": "execute_result"
    }
   ],
   "source": [
    "fnt_fame_scores.describe()"
   ]
  },
  {
   "cell_type": "code",
   "execution_count": null,
   "metadata": {},
   "outputs": [],
   "source": []
  }
 ],
 "metadata": {
  "kernelspec": {
   "display_name": "Python 3",
   "language": "python",
   "name": "python3"
  },
  "language_info": {
   "codemirror_mode": {
    "name": "ipython",
    "version": 3
   },
   "file_extension": ".py",
   "mimetype": "text/x-python",
   "name": "python",
   "nbconvert_exporter": "python",
   "pygments_lexer": "ipython3",
   "version": "3.6.4"
  }
 },
 "nbformat": 4,
 "nbformat_minor": 2
}
