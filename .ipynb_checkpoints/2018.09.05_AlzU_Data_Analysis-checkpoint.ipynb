{
 "cells": [
  {
   "cell_type": "code",
   "execution_count": 1,
   "metadata": {
    "collapsed": true
   },
   "outputs": [],
   "source": [
    "import pandas as pd"
   ]
  },
  {
   "cell_type": "markdown",
   "metadata": {},
   "source": [
    "# 1. AlzU Survey Data Section"
   ]
  },
  {
   "cell_type": "code",
   "execution_count": 2,
   "metadata": {
    "collapsed": false
   },
   "outputs": [],
   "source": [
    "ALZU_RESPONSES_FILE_PATH = '../Data_Folder/2018.09.18_AlzU_ANU-DRI + Responses_Numerical.csv'"
   ]
  },
  {
   "cell_type": "markdown",
   "metadata": {},
   "source": [
    "## Combine first two rows to generate column names"
   ]
  },
  {
   "cell_type": "code",
   "execution_count": 3,
   "metadata": {
    "collapsed": false
   },
   "outputs": [],
   "source": [
    "two_header_rows = pd.read_csv(ALZU_RESPONSES_FILE_PATH, header=None, nrows = 2, delimiter = \",\", keep_default_na=False)\n",
    "\n",
    "transformed_header_row = []\n",
    "\n",
    "most_recent_col_first_row = None\n",
    "for column in two_header_rows:\n",
    "    primary_header = two_header_rows[column][0]\n",
    "    sub_header = two_header_rows[column][1]\n",
    "#     print(primary_header + \": \" + sub_header)\n",
    "    if(primary_header != \"\"):\n",
    "        most_recent_col_first_row = primary_header\n",
    "    transformed_header_row.append(most_recent_col_first_row + \": \" + sub_header)"
   ]
  },
  {
   "cell_type": "markdown",
   "metadata": {},
   "source": [
    "## Load Data with column names\n",
    "\n",
    "\n",
    "        "
   ]
  },
  {
   "cell_type": "code",
   "execution_count": 4,
   "metadata": {
    "collapsed": false
   },
   "outputs": [
    {
     "data": {
      "text/html": [
       "<div>\n",
       "<table border=\"1\" class=\"dataframe\">\n",
       "  <thead>\n",
       "    <tr style=\"text-align: right;\">\n",
       "      <th></th>\n",
       "      <th>Respondent ID:</th>\n",
       "      <th>Collector ID:</th>\n",
       "      <th>Start Date:</th>\n",
       "      <th>End Date:</th>\n",
       "      <th>IP Address:</th>\n",
       "      <th>Email Address:</th>\n",
       "      <th>First Name:</th>\n",
       "      <th>Last Name:</th>\n",
       "      <th>Custom Data 1:</th>\n",
       "      <th>How many lessons did you complete on AlzU.org?: Response</th>\n",
       "      <th>...</th>\n",
       "      <th>How many drinks do you have on a typical day when you are drinking?: Response</th>\n",
       "      <th>Do you, or have you ever, smoked cigarettes, cigars, pipes or any other tobacco products?: Response</th>\n",
       "      <th>Have you ever been involved in occupations that require you to mix, apply or load any pesticides, herbicides, weed killers, fumigants or fungicides?: Response</th>\n",
       "      <th>On average, how many hours per night do you sleep?: Open-Ended Response</th>\n",
       "      <th>Write a short sketch about a memory from your childhood and why it is memorable or important to you. Feel free to discuss an event with family or friends, a place you traveled, or a significant time in your life.  Please limit your response to no more than 1-2 paragraphs.  This question is optional.: Open-Ended Response</th>\n",
       "      <th>How does technology and social media impact the daily lives of you and your family?Please limit your response to no more than 1-2 paragraphs.  This question is optional.: Open-Ended Response</th>\n",
       "      <th>uid: Open-Ended Response</th>\n",
       "      <th>joined: Open-Ended Response</th>\n",
       "      <th>email: Open-Ended Response</th>\n",
       "      <th>lc: Open-Ended Response</th>\n",
       "    </tr>\n",
       "  </thead>\n",
       "  <tbody>\n",
       "    <tr>\n",
       "      <th>0</th>\n",
       "      <td>6936062570</td>\n",
       "      <td>170620047</td>\n",
       "      <td>2018-09-05 9:46:59</td>\n",
       "      <td>2018-09-05 9:50:09</td>\n",
       "      <td>72.239.164.168</td>\n",
       "      <td></td>\n",
       "      <td></td>\n",
       "      <td></td>\n",
       "      <td></td>\n",
       "      <td>3</td>\n",
       "      <td>...</td>\n",
       "      <td></td>\n",
       "      <td></td>\n",
       "      <td></td>\n",
       "      <td></td>\n",
       "      <td></td>\n",
       "      <td></td>\n",
       "      <td>28350</td>\n",
       "      <td>1505831996</td>\n",
       "      <td></td>\n",
       "      <td>10</td>\n",
       "    </tr>\n",
       "    <tr>\n",
       "      <th>1</th>\n",
       "      <td>6935898635</td>\n",
       "      <td>170620047</td>\n",
       "      <td>2018-09-04 20:43:46</td>\n",
       "      <td>2018-09-04 22:55:52</td>\n",
       "      <td>73.230.13.240</td>\n",
       "      <td></td>\n",
       "      <td></td>\n",
       "      <td></td>\n",
       "      <td></td>\n",
       "      <td>2</td>\n",
       "      <td>...</td>\n",
       "      <td>2</td>\n",
       "      <td>3</td>\n",
       "      <td>2</td>\n",
       "      <td>6-8</td>\n",
       "      <td></td>\n",
       "      <td></td>\n",
       "      <td>34727</td>\n",
       "      <td>1507164531</td>\n",
       "      <td></td>\n",
       "      <td>3</td>\n",
       "    </tr>\n",
       "    <tr>\n",
       "      <th>2</th>\n",
       "      <td>6935793919</td>\n",
       "      <td>170620047</td>\n",
       "      <td>2018-09-04 16:23:38</td>\n",
       "      <td>2018-09-04 16:26:34</td>\n",
       "      <td>98.155.32.231</td>\n",
       "      <td></td>\n",
       "      <td></td>\n",
       "      <td></td>\n",
       "      <td></td>\n",
       "      <td>2</td>\n",
       "      <td>...</td>\n",
       "      <td></td>\n",
       "      <td></td>\n",
       "      <td></td>\n",
       "      <td></td>\n",
       "      <td></td>\n",
       "      <td></td>\n",
       "      <td>46314</td>\n",
       "      <td>1519250996</td>\n",
       "      <td></td>\n",
       "      <td>10</td>\n",
       "    </tr>\n",
       "    <tr>\n",
       "      <th>3</th>\n",
       "      <td>6935733915</td>\n",
       "      <td>170620047</td>\n",
       "      <td>2018-09-04 14:10:18</td>\n",
       "      <td>2018-09-04 14:27:56</td>\n",
       "      <td>12.33.32.71</td>\n",
       "      <td></td>\n",
       "      <td></td>\n",
       "      <td></td>\n",
       "      <td></td>\n",
       "      <td>2</td>\n",
       "      <td>...</td>\n",
       "      <td>1</td>\n",
       "      <td>2</td>\n",
       "      <td>2</td>\n",
       "      <td>7</td>\n",
       "      <td>I remember traveling to the National Parks wit...</td>\n",
       "      <td>I like using technology and overcoming the dif...</td>\n",
       "      <td>46294</td>\n",
       "      <td>1519049573</td>\n",
       "      <td></td>\n",
       "      <td>5</td>\n",
       "    </tr>\n",
       "    <tr>\n",
       "      <th>4</th>\n",
       "      <td>6935603649</td>\n",
       "      <td>170620047</td>\n",
       "      <td>2018-09-04 9:27:18</td>\n",
       "      <td>2018-09-04 10:48:34</td>\n",
       "      <td>160.2.106.111</td>\n",
       "      <td></td>\n",
       "      <td></td>\n",
       "      <td></td>\n",
       "      <td></td>\n",
       "      <td>3</td>\n",
       "      <td>...</td>\n",
       "      <td>1</td>\n",
       "      <td>2</td>\n",
       "      <td>2</td>\n",
       "      <td>8</td>\n",
       "      <td>When I was 8 I swam across a little lake and w...</td>\n",
       "      <td>I keep in touch with friends and family, do re...</td>\n",
       "      <td>46308</td>\n",
       "      <td>1519246474</td>\n",
       "      <td></td>\n",
       "      <td>10</td>\n",
       "    </tr>\n",
       "  </tbody>\n",
       "</table>\n",
       "<p>5 rows × 129 columns</p>\n",
       "</div>"
      ],
      "text/plain": [
       "   Respondent ID:   Collector ID:          Start Date:            End Date:   \\\n",
       "0       6936062570       170620047   2018-09-05 9:46:59   2018-09-05 9:50:09   \n",
       "1       6935898635       170620047  2018-09-04 20:43:46  2018-09-04 22:55:52   \n",
       "2       6935793919       170620047  2018-09-04 16:23:38  2018-09-04 16:26:34   \n",
       "3       6935733915       170620047  2018-09-04 14:10:18  2018-09-04 14:27:56   \n",
       "4       6935603649       170620047   2018-09-04 9:27:18  2018-09-04 10:48:34   \n",
       "\n",
       "     IP Address:  Email Address:  First Name:  Last Name:  Custom Data 1:   \\\n",
       "0  72.239.164.168                                                            \n",
       "1   73.230.13.240                                                            \n",
       "2   98.155.32.231                                                            \n",
       "3     12.33.32.71                                                            \n",
       "4   160.2.106.111                                                            \n",
       "\n",
       "  How many lessons did you complete on AlzU.org?: Response  \\\n",
       "0                                                  3         \n",
       "1                                                  2         \n",
       "2                                                  2         \n",
       "3                                                  2         \n",
       "4                                                  3         \n",
       "\n",
       "            ...            \\\n",
       "0           ...             \n",
       "1           ...             \n",
       "2           ...             \n",
       "3           ...             \n",
       "4           ...             \n",
       "\n",
       "  How many drinks do you have on a typical day when you are drinking?: Response  \\\n",
       "0                                                                                 \n",
       "1                                                  2                              \n",
       "2                                                                                 \n",
       "3                                                  1                              \n",
       "4                                                  1                              \n",
       "\n",
       "  Do you, or have you ever, smoked cigarettes, cigars, pipes or any other tobacco products?: Response  \\\n",
       "0                                                                                                       \n",
       "1                                                  3                                                    \n",
       "2                                                                                                       \n",
       "3                                                  2                                                    \n",
       "4                                                  2                                                    \n",
       "\n",
       "  Have you ever been involved in occupations that require you to mix, apply or load any pesticides, herbicides, weed killers, fumigants or fungicides?: Response  \\\n",
       "0                                                                                                                                                                  \n",
       "1                                                  2                                                                                                               \n",
       "2                                                                                                                                                                  \n",
       "3                                                  2                                                                                                               \n",
       "4                                                  2                                                                                                               \n",
       "\n",
       "  On average, how many hours per night do you sleep?: Open-Ended Response  \\\n",
       "0                                                                           \n",
       "1                                                6-8                        \n",
       "2                                                                           \n",
       "3                                                  7                        \n",
       "4                                                  8                        \n",
       "\n",
       "  Write a short sketch about a memory from your childhood and why it is memorable or important to you. Feel free to discuss an event with family or friends, a place you traveled, or a significant time in your life.  Please limit your response to no more than 1-2 paragraphs.  This question is optional.: Open-Ended Response  \\\n",
       "0                                                                                                                                                                                                                                                                                                                                     \n",
       "1                                                                                                                                                                                                                                                                                                                                     \n",
       "2                                                                                                                                                                                                                                                                                                                                     \n",
       "3  I remember traveling to the National Parks wit...                                                                                                                                                                                                                                                                                  \n",
       "4  When I was 8 I swam across a little lake and w...                                                                                                                                                                                                                                                                                  \n",
       "\n",
       "  How does technology and social media impact the daily lives of you and your family?Please limit your response to no more than 1-2 paragraphs.  This question is optional.: Open-Ended Response  \\\n",
       "0                                                                                                                                                                                                  \n",
       "1                                                                                                                                                                                                  \n",
       "2                                                                                                                                                                                                  \n",
       "3  I like using technology and overcoming the dif...                                                                                                                                               \n",
       "4  I keep in touch with friends and family, do re...                                                                                                                                               \n",
       "\n",
       "  uid: Open-Ended Response joined: Open-Ended Response  \\\n",
       "0                    28350                  1505831996   \n",
       "1                    34727                  1507164531   \n",
       "2                    46314                  1519250996   \n",
       "3                    46294                  1519049573   \n",
       "4                    46308                  1519246474   \n",
       "\n",
       "  email: Open-Ended Response lc: Open-Ended Response  \n",
       "0                                                 10  \n",
       "1                                                  3  \n",
       "2                                                 10  \n",
       "3                                                  5  \n",
       "4                                                 10  \n",
       "\n",
       "[5 rows x 129 columns]"
      ]
     },
     "execution_count": 4,
     "metadata": {},
     "output_type": "execute_result"
    }
   ],
   "source": [
    "alzu_survey_data = pd.read_csv(ALZU_RESPONSES_FILE_PATH, header=None, skiprows = [0,1], delimiter = \",\", keep_default_na=False, names=transformed_header_row)\n",
    "\n",
    "alzu_survey_data.head()"
   ]
  },
  {
   "cell_type": "markdown",
   "metadata": {},
   "source": [
    "# 2. CFT Data Section"
   ]
  },
  {
   "cell_type": "code",
   "execution_count": 6,
   "metadata": {
    "collapsed": true
   },
   "outputs": [],
   "source": [
    "CFT_FILE_PATH = '../Data_Folder/2018.09_CFT_all.csv'"
   ]
  },
  {
   "cell_type": "code",
   "execution_count": 7,
   "metadata": {
    "collapsed": false
   },
   "outputs": [
    {
     "ename": "IOError",
     "evalue": "File ../Data_Folder/2018.09_CFT_all does not exist",
     "output_type": "error",
     "traceback": [
      "\u001b[0;31m---------------------------------------------------------------------------\u001b[0m",
      "\u001b[0;31mIOError\u001b[0m                                   Traceback (most recent call last)",
      "\u001b[0;32m<ipython-input-7-4f30634aa51a>\u001b[0m in \u001b[0;36m<module>\u001b[0;34m()\u001b[0m\n\u001b[0;32m----> 1\u001b[0;31m \u001b[0mcft_data\u001b[0m \u001b[0;34m=\u001b[0m \u001b[0mpd\u001b[0m\u001b[0;34m.\u001b[0m\u001b[0mread_csv\u001b[0m\u001b[0;34m(\u001b[0m\u001b[0mCFT_FILE_PATH\u001b[0m\u001b[0;34m,\u001b[0m \u001b[0mdelimiter\u001b[0m \u001b[0;34m=\u001b[0m \u001b[0;34m\",\"\u001b[0m\u001b[0;34m,\u001b[0m \u001b[0mkeep_default_na\u001b[0m\u001b[0;34m=\u001b[0m\u001b[0mFalse\u001b[0m\u001b[0;34m)\u001b[0m\u001b[0;34m\u001b[0m\u001b[0m\n\u001b[0m",
      "\u001b[0;32m/Users/travisallen/anaconda/lib/python2.7/site-packages/pandas/io/parsers.pyc\u001b[0m in \u001b[0;36mparser_f\u001b[0;34m(filepath_or_buffer, sep, delimiter, header, names, index_col, usecols, squeeze, prefix, mangle_dupe_cols, dtype, engine, converters, true_values, false_values, skipinitialspace, skiprows, nrows, na_values, keep_default_na, na_filter, verbose, skip_blank_lines, parse_dates, infer_datetime_format, keep_date_col, date_parser, dayfirst, iterator, chunksize, compression, thousands, decimal, lineterminator, quotechar, quoting, escapechar, comment, encoding, dialect, tupleize_cols, error_bad_lines, warn_bad_lines, skipfooter, skip_footer, doublequote, delim_whitespace, as_recarray, compact_ints, use_unsigned, low_memory, buffer_lines, memory_map, float_precision)\u001b[0m\n\u001b[1;32m    644\u001b[0m                     skip_blank_lines=skip_blank_lines)\n\u001b[1;32m    645\u001b[0m \u001b[0;34m\u001b[0m\u001b[0m\n\u001b[0;32m--> 646\u001b[0;31m         \u001b[0;32mreturn\u001b[0m \u001b[0m_read\u001b[0m\u001b[0;34m(\u001b[0m\u001b[0mfilepath_or_buffer\u001b[0m\u001b[0;34m,\u001b[0m \u001b[0mkwds\u001b[0m\u001b[0;34m)\u001b[0m\u001b[0;34m\u001b[0m\u001b[0m\n\u001b[0m\u001b[1;32m    647\u001b[0m \u001b[0;34m\u001b[0m\u001b[0m\n\u001b[1;32m    648\u001b[0m     \u001b[0mparser_f\u001b[0m\u001b[0;34m.\u001b[0m\u001b[0m__name__\u001b[0m \u001b[0;34m=\u001b[0m \u001b[0mname\u001b[0m\u001b[0;34m\u001b[0m\u001b[0m\n",
      "\u001b[0;32m/Users/travisallen/anaconda/lib/python2.7/site-packages/pandas/io/parsers.pyc\u001b[0m in \u001b[0;36m_read\u001b[0;34m(filepath_or_buffer, kwds)\u001b[0m\n\u001b[1;32m    387\u001b[0m \u001b[0;34m\u001b[0m\u001b[0m\n\u001b[1;32m    388\u001b[0m     \u001b[0;31m# Create the parser.\u001b[0m\u001b[0;34m\u001b[0m\u001b[0;34m\u001b[0m\u001b[0m\n\u001b[0;32m--> 389\u001b[0;31m     \u001b[0mparser\u001b[0m \u001b[0;34m=\u001b[0m \u001b[0mTextFileReader\u001b[0m\u001b[0;34m(\u001b[0m\u001b[0mfilepath_or_buffer\u001b[0m\u001b[0;34m,\u001b[0m \u001b[0;34m**\u001b[0m\u001b[0mkwds\u001b[0m\u001b[0;34m)\u001b[0m\u001b[0;34m\u001b[0m\u001b[0m\n\u001b[0m\u001b[1;32m    390\u001b[0m \u001b[0;34m\u001b[0m\u001b[0m\n\u001b[1;32m    391\u001b[0m     \u001b[0;32mif\u001b[0m \u001b[0;34m(\u001b[0m\u001b[0mnrows\u001b[0m \u001b[0;32mis\u001b[0m \u001b[0;32mnot\u001b[0m \u001b[0mNone\u001b[0m\u001b[0;34m)\u001b[0m \u001b[0;32mand\u001b[0m \u001b[0;34m(\u001b[0m\u001b[0mchunksize\u001b[0m \u001b[0;32mis\u001b[0m \u001b[0;32mnot\u001b[0m \u001b[0mNone\u001b[0m\u001b[0;34m)\u001b[0m\u001b[0;34m:\u001b[0m\u001b[0;34m\u001b[0m\u001b[0m\n",
      "\u001b[0;32m/Users/travisallen/anaconda/lib/python2.7/site-packages/pandas/io/parsers.pyc\u001b[0m in \u001b[0;36m__init__\u001b[0;34m(self, f, engine, **kwds)\u001b[0m\n\u001b[1;32m    728\u001b[0m             \u001b[0mself\u001b[0m\u001b[0;34m.\u001b[0m\u001b[0moptions\u001b[0m\u001b[0;34m[\u001b[0m\u001b[0;34m'has_index_names'\u001b[0m\u001b[0;34m]\u001b[0m \u001b[0;34m=\u001b[0m \u001b[0mkwds\u001b[0m\u001b[0;34m[\u001b[0m\u001b[0;34m'has_index_names'\u001b[0m\u001b[0;34m]\u001b[0m\u001b[0;34m\u001b[0m\u001b[0m\n\u001b[1;32m    729\u001b[0m \u001b[0;34m\u001b[0m\u001b[0m\n\u001b[0;32m--> 730\u001b[0;31m         \u001b[0mself\u001b[0m\u001b[0;34m.\u001b[0m\u001b[0m_make_engine\u001b[0m\u001b[0;34m(\u001b[0m\u001b[0mself\u001b[0m\u001b[0;34m.\u001b[0m\u001b[0mengine\u001b[0m\u001b[0;34m)\u001b[0m\u001b[0;34m\u001b[0m\u001b[0m\n\u001b[0m\u001b[1;32m    731\u001b[0m \u001b[0;34m\u001b[0m\u001b[0m\n\u001b[1;32m    732\u001b[0m     \u001b[0;32mdef\u001b[0m \u001b[0mclose\u001b[0m\u001b[0;34m(\u001b[0m\u001b[0mself\u001b[0m\u001b[0;34m)\u001b[0m\u001b[0;34m:\u001b[0m\u001b[0;34m\u001b[0m\u001b[0m\n",
      "\u001b[0;32m/Users/travisallen/anaconda/lib/python2.7/site-packages/pandas/io/parsers.pyc\u001b[0m in \u001b[0;36m_make_engine\u001b[0;34m(self, engine)\u001b[0m\n\u001b[1;32m    921\u001b[0m     \u001b[0;32mdef\u001b[0m \u001b[0m_make_engine\u001b[0m\u001b[0;34m(\u001b[0m\u001b[0mself\u001b[0m\u001b[0;34m,\u001b[0m \u001b[0mengine\u001b[0m\u001b[0;34m=\u001b[0m\u001b[0;34m'c'\u001b[0m\u001b[0;34m)\u001b[0m\u001b[0;34m:\u001b[0m\u001b[0;34m\u001b[0m\u001b[0m\n\u001b[1;32m    922\u001b[0m         \u001b[0;32mif\u001b[0m \u001b[0mengine\u001b[0m \u001b[0;34m==\u001b[0m \u001b[0;34m'c'\u001b[0m\u001b[0;34m:\u001b[0m\u001b[0;34m\u001b[0m\u001b[0m\n\u001b[0;32m--> 923\u001b[0;31m             \u001b[0mself\u001b[0m\u001b[0;34m.\u001b[0m\u001b[0m_engine\u001b[0m \u001b[0;34m=\u001b[0m \u001b[0mCParserWrapper\u001b[0m\u001b[0;34m(\u001b[0m\u001b[0mself\u001b[0m\u001b[0;34m.\u001b[0m\u001b[0mf\u001b[0m\u001b[0;34m,\u001b[0m \u001b[0;34m**\u001b[0m\u001b[0mself\u001b[0m\u001b[0;34m.\u001b[0m\u001b[0moptions\u001b[0m\u001b[0;34m)\u001b[0m\u001b[0;34m\u001b[0m\u001b[0m\n\u001b[0m\u001b[1;32m    924\u001b[0m         \u001b[0;32melse\u001b[0m\u001b[0;34m:\u001b[0m\u001b[0;34m\u001b[0m\u001b[0m\n\u001b[1;32m    925\u001b[0m             \u001b[0;32mif\u001b[0m \u001b[0mengine\u001b[0m \u001b[0;34m==\u001b[0m \u001b[0;34m'python'\u001b[0m\u001b[0;34m:\u001b[0m\u001b[0;34m\u001b[0m\u001b[0m\n",
      "\u001b[0;32m/Users/travisallen/anaconda/lib/python2.7/site-packages/pandas/io/parsers.pyc\u001b[0m in \u001b[0;36m__init__\u001b[0;34m(self, src, **kwds)\u001b[0m\n\u001b[1;32m   1388\u001b[0m         \u001b[0mkwds\u001b[0m\u001b[0;34m[\u001b[0m\u001b[0;34m'allow_leading_cols'\u001b[0m\u001b[0;34m]\u001b[0m \u001b[0;34m=\u001b[0m \u001b[0mself\u001b[0m\u001b[0;34m.\u001b[0m\u001b[0mindex_col\u001b[0m \u001b[0;32mis\u001b[0m \u001b[0;32mnot\u001b[0m \u001b[0mFalse\u001b[0m\u001b[0;34m\u001b[0m\u001b[0m\n\u001b[1;32m   1389\u001b[0m \u001b[0;34m\u001b[0m\u001b[0m\n\u001b[0;32m-> 1390\u001b[0;31m         \u001b[0mself\u001b[0m\u001b[0;34m.\u001b[0m\u001b[0m_reader\u001b[0m \u001b[0;34m=\u001b[0m \u001b[0m_parser\u001b[0m\u001b[0;34m.\u001b[0m\u001b[0mTextReader\u001b[0m\u001b[0;34m(\u001b[0m\u001b[0msrc\u001b[0m\u001b[0;34m,\u001b[0m \u001b[0;34m**\u001b[0m\u001b[0mkwds\u001b[0m\u001b[0;34m)\u001b[0m\u001b[0;34m\u001b[0m\u001b[0m\n\u001b[0m\u001b[1;32m   1391\u001b[0m \u001b[0;34m\u001b[0m\u001b[0m\n\u001b[1;32m   1392\u001b[0m         \u001b[0;31m# XXX\u001b[0m\u001b[0;34m\u001b[0m\u001b[0;34m\u001b[0m\u001b[0m\n",
      "\u001b[0;32mpandas/parser.pyx\u001b[0m in \u001b[0;36mpandas.parser.TextReader.__cinit__ (pandas/parser.c:4184)\u001b[0;34m()\u001b[0m\n",
      "\u001b[0;32mpandas/parser.pyx\u001b[0m in \u001b[0;36mpandas.parser.TextReader._setup_parser_source (pandas/parser.c:8449)\u001b[0;34m()\u001b[0m\n",
      "\u001b[0;31mIOError\u001b[0m: File ../Data_Folder/2018.09_CFT_all does not exist"
     ]
    }
   ],
   "source": [
    "cft_data = pd.read_csv(CFT_FILE_PATH, delimiter = \",\", keep_default_na=False)"
   ]
  },
  {
   "cell_type": "code",
   "execution_count": null,
   "metadata": {
    "collapsed": true
   },
   "outputs": [],
   "source": []
  }
 ],
 "metadata": {
  "kernelspec": {
   "display_name": "Python 2",
   "language": "python",
   "name": "python2"
  },
  "language_info": {
   "codemirror_mode": {
    "name": "ipython",
    "version": 2
   },
   "file_extension": ".py",
   "mimetype": "text/x-python",
   "name": "python",
   "nbconvert_exporter": "python",
   "pygments_lexer": "ipython2",
   "version": "2.7.13"
  }
 },
 "nbformat": 4,
 "nbformat_minor": 2
}
