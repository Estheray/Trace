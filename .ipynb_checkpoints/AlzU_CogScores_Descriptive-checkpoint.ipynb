{
 "cells": [
  {
   "cell_type": "code",
   "execution_count": 2,
   "metadata": {
    "collapsed": true
   },
   "outputs": [],
   "source": [
    "import pandas as pd\n",
    "import numpy as np"
   ]
  },
  {
   "cell_type": "code",
   "execution_count": 6,
   "metadata": {
    "collapsed": true
   },
   "outputs": [],
   "source": [
    "cft_514 = pd.read_csv('./CFT-ao-GMT2018-05-59_04-59-54_514.csv')"
   ]
  },
  {
   "cell_type": "code",
   "execution_count": 1,
   "metadata": {
    "collapsed": false
   },
   "outputs": [],
   "source": [
    "# cft_514.head()"
   ]
  },
  {
   "cell_type": "code",
   "execution_count": 8,
   "metadata": {
    "collapsed": false
   },
   "outputs": [
    {
     "data": {
      "text/plain": [
       "Index(['UserID', 'FirstName', 'EmailAddress', 'DoB', 'Gender', 'RegDate',\n",
       "       'Country', 'Postcode', 'Source', 'Ethnicy', 'MouseScore', 'Interrupted',\n",
       "       'Functioned', 'FastInternet', 'ScreenClear', 'FinalScore', 'DateTaken',\n",
       "       'Homoscyteine', 'MaritalStatus', 'Dependents', 'Occupation',\n",
       "       'PrimaryIncome', 'HouseholdIncome', 'PrimaryIncomeOccupation',\n",
       "       'FirstPriority', 'SecondPriority', 'OtherPriority', 'FullTime',\n",
       "       'PartTime', 'Working', 'CompUser', 'MemConcern', 'ForgetFriends',\n",
       "       'PutThings', 'ForgetWords', 'LoseWay', 'IsMemoryWorse', 'FamilyHistory',\n",
       "       'FamilyHistoryAge', 'Supplements', 'DeviceUsed', 'ass', 'combocs',\n",
       "       'recallscore', 'placescore'],\n",
       "      dtype='object')"
      ]
     },
     "execution_count": 8,
     "metadata": {},
     "output_type": "execute_result"
    }
   ],
   "source": [
    "cft_514.columns"
   ]
  },
  {
   "cell_type": "code",
   "execution_count": 10,
   "metadata": {
    "collapsed": false
   },
   "outputs": [
    {
     "data": {
      "text/plain": [
       "0          NaN\n",
       "1          NaN\n",
       "2    16.812572\n",
       "3    10.051615\n",
       "4    11.232202\n",
       "Name: FinalScore, dtype: float64"
      ]
     },
     "execution_count": 10,
     "metadata": {},
     "output_type": "execute_result"
    }
   ],
   "source": [
    "cft_514.loc[:,'FinalScore'].head()"
   ]
  },
  {
   "cell_type": "code",
   "execution_count": 66,
   "metadata": {
    "collapsed": true
   },
   "outputs": [],
   "source": [
    "total_participants = cft_514.loc[:,'FinalScore'].count()"
   ]
  },
  {
   "cell_type": "code",
   "execution_count": 58,
   "metadata": {
    "collapsed": true
   },
   "outputs": [],
   "source": [
    "#within one standard deviation (11) of the mean (54.2) and above\n",
    "green = sum(cft_514.loc[:,'FinalScore']>=43.2)"
   ]
  },
  {
   "cell_type": "code",
   "execution_count": 59,
   "metadata": {
    "collapsed": false
   },
   "outputs": [
    {
     "data": {
      "text/plain": [
       "3802"
      ]
     },
     "execution_count": 59,
     "metadata": {},
     "output_type": "execute_result"
    }
   ],
   "source": [
    "green"
   ]
  },
  {
   "cell_type": "code",
   "execution_count": 68,
   "metadata": {
    "collapsed": false
   },
   "outputs": [
    {
     "data": {
      "text/plain": [
       "0.5098565106611238"
      ]
     },
     "execution_count": 68,
     "metadata": {},
     "output_type": "execute_result"
    }
   ],
   "source": [
    "green/total_participants"
   ]
  },
  {
   "cell_type": "code",
   "execution_count": 60,
   "metadata": {
    "collapsed": true
   },
   "outputs": [],
   "source": [
    "#below one standard deviation, 'at risk'\n",
    "#rounded as per foodforthebrain.org/alzheimers-prevention/take-the-test/interpreting-results.aspx\n",
    "# amber = sum((cft_514.loc[:,'FinalScore']>=38) & (cft_514.loc[:,'FinalScore']<=43))\n",
    "amber = sum((cft_514.loc[:,'FinalScore']>= 37.7) & (cft_514.loc[:,'FinalScore']<43.2))"
   ]
  },
  {
   "cell_type": "code",
   "execution_count": 61,
   "metadata": {
    "collapsed": false
   },
   "outputs": [
    {
     "data": {
      "text/plain": [
       "1639"
      ]
     },
     "execution_count": 61,
     "metadata": {},
     "output_type": "execute_result"
    }
   ],
   "source": [
    "amber"
   ]
  },
  {
   "cell_type": "code",
   "execution_count": 69,
   "metadata": {
    "collapsed": false
   },
   "outputs": [
    {
     "data": {
      "text/plain": [
       "0.21979348263376694"
      ]
     },
     "execution_count": 69,
     "metadata": {},
     "output_type": "execute_result"
    }
   ],
   "source": [
    "amber/total_participants"
   ]
  },
  {
   "cell_type": "code",
   "execution_count": 62,
   "metadata": {
    "collapsed": true
   },
   "outputs": [],
   "source": [
    "#below 1.5 standard deviations from the mean, 'significant risk'\n",
    "#foodforthebrain.org/alzheimers-prevention/take-the-test/interpreting-results.aspx\n",
    "red = sum(cft_514.loc[:,'FinalScore']<37.7)"
   ]
  },
  {
   "cell_type": "code",
   "execution_count": 63,
   "metadata": {
    "collapsed": false
   },
   "outputs": [
    {
     "data": {
      "text/plain": [
       "2016"
      ]
     },
     "execution_count": 63,
     "metadata": {},
     "output_type": "execute_result"
    }
   ],
   "source": [
    "red"
   ]
  },
  {
   "cell_type": "code",
   "execution_count": 70,
   "metadata": {
    "collapsed": false
   },
   "outputs": [
    {
     "data": {
      "text/plain": [
       "0.2703500067051093"
      ]
     },
     "execution_count": 70,
     "metadata": {},
     "output_type": "execute_result"
    }
   ],
   "source": [
    "red/total_participants"
   ]
  },
  {
   "cell_type": "code",
   "execution_count": 64,
   "metadata": {
    "collapsed": false
   },
   "outputs": [
    {
     "data": {
      "text/plain": [
       "7457"
      ]
     },
     "execution_count": 64,
     "metadata": {},
     "output_type": "execute_result"
    }
   ],
   "source": [
    "red+amber+green "
   ]
  },
  {
   "cell_type": "code",
   "execution_count": 67,
   "metadata": {
    "collapsed": false
   },
   "outputs": [
    {
     "data": {
      "text/plain": [
       "True"
      ]
     },
     "execution_count": 67,
     "metadata": {},
     "output_type": "execute_result"
    }
   ],
   "source": [
    "red+amber+green == total_participants"
   ]
  },
  {
   "cell_type": "code",
   "execution_count": 8,
   "metadata": {
    "collapsed": false
   },
   "outputs": [
    {
     "name": "stderr",
     "output_type": "stream",
     "text": [
      "C:\\Users\\rz336\\AppData\\Local\\Continuum\\anaconda3\\lib\\site-packages\\IPython\\core\\interactiveshell.py:2728: DtypeWarning: Columns (17,18,32,33,47,91,92,106,150,151,165,179,180,209,210,238,239,297,298,356,357) have mixed types. Specify dtype option on import or set low_memory=False.\n",
      "  interactivity=interactivity, compiler=compiler, result=result)\n"
     ]
    }
   ],
   "source": [
    "fnt_514 = pd.read_csv('fnt-responses_514.csv')"
   ]
  },
  {
   "cell_type": "code",
   "execution_count": 22,
   "metadata": {
    "collapsed": true
   },
   "outputs": [],
   "source": [
    "fnt_col_scores = [c for c in fnt_514.columns if 'Ver: A' in c]"
   ]
  },
  {
   "cell_type": "code",
   "execution_count": 23,
   "metadata": {
    "collapsed": false
   },
   "outputs": [
    {
     "data": {
      "text/plain": [
       "['Ver: A - Original Start',\n",
       " 'Ver: A - Original End',\n",
       " 'Ver: A - Original | Task: Number | Responses',\n",
       " 'Ver: A - Original | Task: Number | Correct',\n",
       " 'Ver: A - Original | Task: Letter | Responses',\n",
       " 'Ver: A - Original | Task: Letter | Correct',\n",
       " 'Ver: A - Original | Task: Name | Responses',\n",
       " 'Ver: A - Original | Task: Name | Correct',\n",
       " 'Ver: A - Original | Task: Famous | Responses',\n",
       " 'Ver: A - Original | Task: Famous | Correct',\n",
       " 'Ver: A Start',\n",
       " 'Ver: A End',\n",
       " 'Ver: A | Task: Number | Responses',\n",
       " 'Ver: A | Task: Number | Correct',\n",
       " 'Ver: A | Task: Letter | Responses',\n",
       " 'Ver: A | Task: Letter | Correct',\n",
       " 'Ver: A | Task: Name | Responses',\n",
       " 'Ver: A | Task: Name | Correct',\n",
       " 'Ver: A | Task: Famous | Responses',\n",
       " 'Ver: A | Task: Famous | Correct']"
      ]
     },
     "execution_count": 23,
     "metadata": {},
     "output_type": "execute_result"
    }
   ],
   "source": [
    "fnt_col_scores"
   ]
  },
  {
   "cell_type": "code",
   "execution_count": 50,
   "metadata": {
    "collapsed": true
   },
   "outputs": [],
   "source": [
    "def stats(correct,responses):\n",
    "    print(correct,':',responses)\n",
    "#     scores = fnt_514.loc[:,correct]/fnt_514.loc[:,responses]\n",
    "    scores = fnt_514.iloc[:,correct]/fnt_514.iloc[:,responses]\n",
    "    return (scores.describe())"
   ]
  },
  {
   "cell_type": "code",
   "execution_count": 52,
   "metadata": {
    "collapsed": false
   },
   "outputs": [
    {
     "name": "stdout",
     "output_type": "stream",
     "text": [
      "Ver: A - Original End Ver: A - Original Start\n",
      "Ver: A - Original | Task: Number | Correct Ver: A - Original | Task: Number | Responses\n",
      "Ver: A - Original | Task: Letter | Correct Ver: A - Original | Task: Letter | Responses\n",
      "Ver: A - Original | Task: Name | Correct Ver: A - Original | Task: Name | Responses\n",
      "Ver: A - Original | Task: Famous | Correct Ver: A - Original | Task: Famous | Responses\n",
      "Ver: A End Ver: A Start\n",
      "Ver: A | Task: Number | Correct Ver: A | Task: Number | Responses\n",
      "Ver: A | Task: Letter | Correct Ver: A | Task: Letter | Responses\n",
      "Ver: A | Task: Name | Correct Ver: A | Task: Name | Responses\n",
      "Ver: A | Task: Famous | Correct Ver: A | Task: Famous | Responses\n"
     ]
    }
   ],
   "source": [
    "for i in range(0,len(fnt_col_scores),2):\n",
    "#     stats(i+1,i)\n",
    "    print(fnt_col_scores[i+1],fnt_col_scores[i])\n",
    "#     stats(str(fnt_col_scores[i+1]),str(fnt_col_scores[i]))"
   ]
  },
  {
   "cell_type": "code",
   "execution_count": 28,
   "metadata": {
    "collapsed": true
   },
   "outputs": [],
   "source": [
    "fnt_num_scores = fnt_514.loc[:,'Ver: A - Original | Task: Number | Correct']/fnt_514.loc[:,'Ver: A - Original | Task: Number | Responses']"
   ]
  },
  {
   "cell_type": "code",
   "execution_count": 32,
   "metadata": {
    "collapsed": false
   },
   "outputs": [
    {
     "data": {
      "text/plain": [
       "count    11405.000000\n",
       "mean         0.960722\n",
       "std          0.089035\n",
       "min          0.083333\n",
       "25%          0.916667\n",
       "50%          1.000000\n",
       "75%          1.000000\n",
       "max          1.000000\n",
       "dtype: float64"
      ]
     },
     "execution_count": 32,
     "metadata": {},
     "output_type": "execute_result"
    }
   ],
   "source": [
    "fnt_num_scores.describe()"
   ]
  },
  {
   "cell_type": "code",
   "execution_count": 33,
   "metadata": {
    "collapsed": true
   },
   "outputs": [],
   "source": [
    "fnt_letter_scores = fnt_514.loc[:,'Ver: A - Original | Task: Letter | Correct']/fnt_514.loc[:,'Ver: A - Original | Task: Letter | Responses']"
   ]
  },
  {
   "cell_type": "code",
   "execution_count": 34,
   "metadata": {
    "collapsed": false
   },
   "outputs": [
    {
     "data": {
      "text/plain": [
       "count    11146.000000\n",
       "mean         0.551371\n",
       "std          0.231175\n",
       "min          0.000000\n",
       "25%          0.416667\n",
       "50%          0.583333\n",
       "75%          0.750000\n",
       "max          1.000000\n",
       "dtype: float64"
      ]
     },
     "execution_count": 34,
     "metadata": {},
     "output_type": "execute_result"
    }
   ],
   "source": [
    "fnt_letter_scores.describe()"
   ]
  },
  {
   "cell_type": "code",
   "execution_count": 47,
   "metadata": {
    "collapsed": true
   },
   "outputs": [],
   "source": [
    "fnt_name_scores = fnt_514.loc[:,'Ver: A - Original | Task: Name | Correct']/fnt_514.loc[:,'Ver: A - Original | Task: Name | Responses']"
   ]
  },
  {
   "cell_type": "code",
   "execution_count": 48,
   "metadata": {
    "collapsed": false
   },
   "outputs": [
    {
     "data": {
      "text/plain": [
       "count    10891.000000\n",
       "mean         0.787034\n",
       "std          0.159085\n",
       "min          0.000000\n",
       "25%          0.666667\n",
       "50%          0.833333\n",
       "75%          0.916667\n",
       "max          1.000000\n",
       "dtype: float64"
      ]
     },
     "execution_count": 48,
     "metadata": {},
     "output_type": "execute_result"
    }
   ],
   "source": [
    "fnt_name_scores.describe()"
   ]
  },
  {
   "cell_type": "code",
   "execution_count": 53,
   "metadata": {
    "collapsed": true
   },
   "outputs": [],
   "source": [
    "fnt_fame_scores = fnt_514.loc[:,'Ver: A - Original | Task: Famous | Correct']/fnt_514.loc[:,'Ver: A - Original | Task: Famous | Responses']"
   ]
  },
  {
   "cell_type": "code",
   "execution_count": 54,
   "metadata": {
    "collapsed": false
   },
   "outputs": [
    {
     "data": {
      "text/plain": [
       "count    2665.000000\n",
       "mean        0.957349\n",
       "std         0.078345\n",
       "min         0.300000\n",
       "25%         0.900000\n",
       "50%         1.000000\n",
       "75%         1.000000\n",
       "max         1.000000\n",
       "dtype: float64"
      ]
     },
     "execution_count": 54,
     "metadata": {},
     "output_type": "execute_result"
    }
   ],
   "source": [
    "fnt_fame_scores.describe()"
   ]
  },
  {
   "cell_type": "code",
   "execution_count": null,
   "metadata": {
    "collapsed": true
   },
   "outputs": [],
   "source": []
  }
 ],
 "metadata": {
  "kernelspec": {
   "display_name": "Python 3",
   "language": "python",
   "name": "python3"
  },
  "language_info": {
   "codemirror_mode": {
    "name": "ipython",
    "version": 3
   },
   "file_extension": ".py",
   "mimetype": "text/x-python",
   "name": "python",
   "nbconvert_exporter": "python",
   "pygments_lexer": "ipython3",
   "version": "3.6.3"
  }
 },
 "nbformat": 4,
 "nbformat_minor": 2
}
